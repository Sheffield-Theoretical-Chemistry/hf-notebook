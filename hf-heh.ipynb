{
 "cells": [
  {
   "cell_type": "markdown",
   "metadata": {},
   "source": [
    "# Example HF calculation\n",
    "This notebook demonstrates a Hartree-Fock (HF) calculation on the HeH+ ion. The purpose is to demonstrate how the equations presented in the Quantum Chemistry course can be used in practice, it is not meant to be an efficient implementation of a modern HF program.\n",
    "\n",
    "The Python programming language has been used, it should be relatively readable, even if you have zero programming experience. In the code sections, anything after the hash symbol is a comment to help explain what is happening. A double star raises something to the power, so P&ast;&ast;2 is P squared.\n",
    "\n",
    "The example has been adapted from the FORTRAN program in the book *Modern Quantum Chemistry* by Szabo and Ostlund. Robert Shaw (PhD student in my group) wrote some of this conversion from FORTRAN to Python."
   ]
  },
  {
   "cell_type": "markdown",
   "metadata": {},
   "source": [
    "### The molecule\n",
    "Lets start by defining our molecule (HeH+). We need to define a bond distance (R, in atomic units) and the atomic numbers of the two molecules (ZA and ZB)"
   ]
  },
  {
   "cell_type": "code",
   "execution_count": 1,
   "metadata": {},
   "outputs": [],
   "source": [
    "R=1.4632\n",
    "ZA=2.0\n",
    "ZB=1.0"
   ]
  },
  {
   "cell_type": "markdown",
   "metadata": {},
   "source": [
    "### The basis set\n",
    "We also need to define the basis set, in this case we will use the STO-3G minimal basis set, which consists of both exponents and contraction coefficients. We also need the Slater orbital exponents (Zeta). To make the calculations easier, we will place these in what is known as a numpy array (in this case, they are 3x3 matrices) and we will also load a maths library."
   ]
  },
  {
   "cell_type": "code",
   "execution_count": 2,
   "metadata": {},
   "outputs": [],
   "source": [
    "import math #allows us to use maths functions and constants - such as pi\n",
    "from numpy import * #for the arrays\n",
    "Zeta1 = 2.0925\n",
    "Zeta2 = 1.24\n",
    "#STO-nG values are stored in the nth column, so we could run an STO-1G or STO-2G calc if we wanted\n",
    "N = 3\n",
    "expon = array([[0.270950, 0.151623, 0.109818],[0.0, 0.851819, 0.405771],[0.0, 0.0, 2.22766]])\n",
    "coeff = array([[1.0, 0.678914, 0.444635],[0.0, 0.430129, 0.535328],[0.0, 0.0, 0.154329]])"
   ]
  },
  {
   "cell_type": "markdown",
   "metadata": {},
   "source": [
    "We're going to create some variables to hold our data: scale the exponents (A1, A2) and include normalisation in the contraction coefficients (D1, D2) of the primitive Gaussian basis functions on each nuclear centre."
   ]
  },
  {
   "cell_type": "code",
   "execution_count": 3,
   "metadata": {},
   "outputs": [],
   "source": [
    "A1 = [0.0]*3 #Place to hold A1, with everything initally set to zero\n",
    "D1 = [0.0]*3\n",
    "A2 = [0.0]*3\n",
    "D2 = [0.0]*3\n",
    "for i in range(N):\n",
    "    A1[i] = expon[i][N-1]*(Zeta1**2)\n",
    "    D1[i] = coeff[i][N-1]*((2*A1[i]/math.pi)**0.75)\n",
    "    A2[i] = expon[i][N-1]*(Zeta2**2)\n",
    "    D2[i] = coeff[i][N-1]*((2*A2[i]/math.pi)**0.75)"
   ]
  },
  {
   "cell_type": "markdown",
   "metadata": {},
   "source": [
    "## Calculating integrals\n",
    "Now that we have our basis set in the correct format, we can start to calculate the numerous integrals involved in a HF calculation. Lets start by intialising some variables that will hold our integrals - check the comments to find out what each variable is."
   ]
  },
  {
   "cell_type": "code",
   "execution_count": 4,
   "metadata": {},
   "outputs": [],
   "source": [
    "S12 = 0.0 #Overlap integral\n",
    "T11, T12, T22 = 0.0, 0.0, 0.0 #Kinetic energy integrals\n",
    "V11A, V12A, V22A = 0.0, 0.0, 0.0 #Nuclear potential energy integrals at centre A\n",
    "V11B, V12B, V22B = 0.0, 0.0, 0.0 #Nuclear potential energy integrals at centre B\n",
    "V1111, V2111, V2121, V2211, V2221, V2222 = 0.0, 0.0, 0.0, 0.0, 0.0, 0.0 #Electronic potential energy, 2-e integrals"
   ]
  },
  {
   "cell_type": "markdown",
   "metadata": {},
   "source": [
    "### Overlap integrals\n",
    "Perhaps the simplest integral we need is the overlap integral, which can be expressed as:\n",
    "\\begin{equation*}\n",
    "S_{pq} = \\int\\chi_p(1)\\chi_q(1) \\mathop{}\\!\\mathrm{d}\\tau_1\n",
    "\\end{equation*}\n",
    "We need to do this several times (a *loop* in programming terms) so we will define a procedure called S that we can run many times (when you see a line beginning with def, in means we're defining a procedure - the text inside the \"\"\" part tells us what it does)."
   ]
  },
  {
   "cell_type": "code",
   "execution_count": 5,
   "metadata": {},
   "outputs": [],
   "source": [
    "def S(A, B, RAB2):\n",
    "    \"\"\"Calculates the overlap for primitives with exponents A and B, given the square of their separation - RAB2\"\"\"\n",
    "    p1 = math.pi/(A+B)\n",
    "    p2 = math.exp(-A*B*RAB2/(A+B))\n",
    "    return ((p1**1.5)*p2)"
   ]
  },
  {
   "cell_type": "markdown",
   "metadata": {},
   "source": [
    "Lets now calculate S. We'll need to loop over the basis functions"
   ]
  },
  {
   "cell_type": "code",
   "execution_count": 6,
   "metadata": {},
   "outputs": [],
   "source": [
    "for i in range(N):\n",
    "    for j in range(N):\n",
    "        S12 = S12 + S(A1[i], A2[j], R**2)*D1[i]*D2[j]"
   ]
  },
  {
   "cell_type": "markdown",
   "metadata": {},
   "source": [
    "We can check the value of our overlap integral by *printing* it"
   ]
  },
  {
   "cell_type": "code",
   "execution_count": 7,
   "metadata": {},
   "outputs": [
    {
     "name": "stdout",
     "output_type": "stream",
     "text": [
      "The value of the overlap integral is 0.450770411648\n"
     ]
    }
   ],
   "source": [
    "print(\"The value of the overlap integral is\", S12)"
   ]
  },
  {
   "cell_type": "markdown",
   "metadata": {},
   "source": [
    "You might be wondering why we only have a single value here? Good question. We already know what the value of the self overlap element must be (try to link this to concepts introduced in the course), and that the overlap matrix will be symmetric. Let's assemble and print the full overlap matrix, we'll also define a procedure for printing matrices (*matout*) that will be useful later."
   ]
  },
  {
   "cell_type": "code",
   "execution_count": 8,
   "metadata": {},
   "outputs": [
    {
     "name": "stdout",
     "output_type": "stream",
     "text": [
      "\n",
      "The S matrix\n",
      "\t 1 \t\t 2 \t\n",
      "1\t 1.00000\t 0.45077\n",
      "2\t 0.45077\t 1.00000\n",
      "\n"
     ]
    }
   ],
   "source": [
    "smatrix = array([[1.0, S12], [S12, 1.0]]) #2x2 overlap matrix\n",
    "\n",
    "def matout(amatrix, m, n, label):\n",
    "    \"\"\"prints out matrices of size m x n  with label\"\"\"\n",
    "    print(\"\\nThe %s matrix\" % (label))\n",
    "    for i in range(n):\n",
    "        print(\"\\t %i \\t\" % (i+1), end='') #prints matrix column indices\n",
    "    print() #newline\n",
    "    for j in range(m):\n",
    "        print(j+1, end='') #prints matrix row indices\n",
    "        for k in range(n):\n",
    "            print(\"\\t %.5f\" % (amatrix[j][k]), end='')\n",
    "        print() #newline\n",
    "    print() #newline\n",
    "    \n",
    "matout(smatrix, 2, 2, \"S\")"
   ]
  },
  {
   "cell_type": "markdown",
   "metadata": {},
   "source": [
    "### Kinetic energy and nuclear attraction integrals\n",
    "At this point can also calculate our kinetic energy:\n",
    "\\begin{equation*}\n",
    "T_i = \\langle\\psi_i|-\\frac{1}{2}\\nabla^2|\\psi_i\\rangle\n",
    "\\end{equation*}\n",
    "and nuclear attraction integrals:\n",
    "\\begin{equation*}\n",
    "V_{iA} = \\langle\\psi_i|-\\frac{Z_A}{r_A}|\\psi_i\\rangle\n",
    "\\end{equation*}\n",
    "In a similar fashion as the overlap integrals, we'll define procedures before evaluating them as part of a loop. The difference this time is that we'll use the same loop to calculate both. If you look closely you'll see that to define V, we need to define a procedure to calculate f0. We don't go into the technical details of evaluating integrals in the course, so chances are this will seem a bit alien. If you're interested in the details it's best to dive into Szabo and Ostlund."
   ]
  },
  {
   "cell_type": "code",
   "execution_count": 9,
   "metadata": {},
   "outputs": [],
   "source": [
    "def T(A, B, RAB2):\n",
    "    \"\"\"Calculates the kinetic energy integrals for primitives with exponents A and B, given square of their\n",
    "    separation\"\"\"\n",
    "    p1 = A*B/(A+B)\n",
    "    p2 = 3.0 - 2*A*B*RAB2/(A+B)\n",
    "    p3 = math.pi/(A+B)\n",
    "    p4 = math.exp(-A*B*RAB2/(A+B))\n",
    "    retval = p1*p2*(p3**1.5)*p4\n",
    "    return retval\n",
    "\n",
    "def V(A, B, RAB2, RCP2, ZC):\n",
    "    \"\"\"calculates the un-normalised nuclear attraction integrals with exponents A, B at the two centres, \n",
    "    square separation RAB2, square separation between points C and P, RCP2, and atomic number ZC at C.\"\"\"\n",
    "    p1 = 2*math.pi/(A+B)\n",
    "    p2 = f0((A+B)*RCP2)\n",
    "    p3 = math.exp(-A*B*RAB2/(A+B))\n",
    "    retval = -1*p1*p2*p3*ZC\n",
    "    return retval\n",
    "\n",
    "def f0(arg):\n",
    "    \"\"\"calculates the f function for a given argument arg, for S-type orbitals\"\"\"\n",
    "    if arg < 1e-6:\n",
    "        retval =  1.0 - arg/3 #if arg below a given threshold, return the asymptotic value for small arguments\n",
    "    else:\n",
    "        retval = math.sqrt(math.pi/arg)*math.erf(math.sqrt(arg))/2\n",
    "    return retval\n",
    "\n",
    "for i in range(N):\n",
    "    for j in range(N):\n",
    "        #We also need a few distances that can be calculated as part of the loop\n",
    "        RAP = A2[j]*R/(A1[i] + A2[j]) #Distance between centre A and centre P\n",
    "        RBP2 = (R-RAP)**2 #Square of distance between centre B and centre P\n",
    "        T11 = T11 + T(A1[i], A1[j], 0.0)*D1[i]*D1[j]\n",
    "        T12 = T12 + T(A1[i], A2[j], R**2)*D1[i]*D2[j]\n",
    "        T22 = T22 + T(A2[i], A2[j], 0.0)*D2[i]*D2[j]\n",
    "        V11A = V11A + V(A1[i], A1[j], 0.0, 0.0, ZA)*D1[i]*D1[j]\n",
    "        V12A = V12A + V(A1[i], A2[j], R**2, RAP**2, ZA)*D1[i]*D2[j]\n",
    "        V22A = V22A + V(A2[i], A2[j], 0.0, R**2, ZA)*D2[i]*D2[j]\n",
    "        V11B = V11B + V(A1[i], A1[j], 0.0, R**2, ZB)*D1[i]*D1[j]\n",
    "        V12B = V12B + V(A1[i], A2[j], R**2, RBP2, ZB)*D1[i]*D2[j]\n",
    "        V22B = V22B + V(A2[i], A2[j], 0.0, 0.0, ZB)*D2[i]*D2[j]"
   ]
  },
  {
   "cell_type": "markdown",
   "metadata": {},
   "source": [
    "We can print out the integrals we just calculated, in a basic table form"
   ]
  },
  {
   "cell_type": "code",
   "execution_count": 10,
   "metadata": {},
   "outputs": [
    {
     "name": "stdout",
     "output_type": "stream",
     "text": [
      "T11 \t\t T12 \t\t T22\n",
      "\n",
      "2.164313 \t 0.167013 \t 0.760033\n",
      "\n",
      "V11A \t\t V12A \t\t V22A\n",
      "\n",
      "-4.139827 \t -1.102913 \t -1.265246\n",
      "\n",
      "V11B \t\t V12B \t\t V22B\n",
      "\n",
      "-0.677230 \t -0.411305 \t -1.226615\n",
      "\n"
     ]
    }
   ],
   "source": [
    "print(\"T11 \\t\\t T12 \\t\\t T22\\n\")\n",
    "print(\"%f \\t %f \\t %f\\n\" % (T11, T12, T22))\n",
    "print(\"V11A \\t\\t V12A \\t\\t V22A\\n\")\n",
    "print(\"%f \\t %f \\t %f\\n\" % (V11A, V12A, V22A))\n",
    "print(\"V11B \\t\\t V12B \\t\\t V22B\\n\")\n",
    "print(\"%f \\t %f \\t %f\\n\" % (V11B, V12B, V22B))"
   ]
  },
  {
   "cell_type": "markdown",
   "metadata": {},
   "source": [
    "Just as with the overlap integrals, this is a little difficult to read and place into context with the course. Our next step is to form the *core Hamiltonian* and print it as a matrix.\n",
    "\\begin{equation*}\n",
    "h_{pq} = \\langle\\chi_p|-\\frac{1}{2}\\nabla^2 -\\frac{Z_A}{r_A}|\\chi_q\\rangle\n",
    "\\end{equation*}"
   ]
  },
  {
   "cell_type": "code",
   "execution_count": 11,
   "metadata": {},
   "outputs": [
    {
     "name": "stdout",
     "output_type": "stream",
     "text": [
      "\n",
      "The H matrix\n",
      "\t 1 \t\t 2 \t\n",
      "1\t -2.65274\t -1.34721\n",
      "2\t -1.34721\t -1.73183\n",
      "\n"
     ]
    }
   ],
   "source": [
    "h11 = T11 + V11A + V11B\n",
    "h12 = T12 + V12A + V12B\n",
    "h21 = h12\n",
    "h22 = T22 + V22A + V22B\n",
    "hmatrix = array([[h11, h12], [h21, h22]]) #2x2 core Hamiltonian matrix\n",
    "matout(hmatrix, 2, 2, \"H\") #Use the procedure defined above to print the core Hamiltonian matrix"
   ]
  },
  {
   "cell_type": "markdown",
   "metadata": {},
   "source": [
    "## Two-electron integrals\n",
    "Now that we've dealt with the one-electron integrals and the core Hamiltonian, it's time to evaluate the two-electron integrals. Although it's slightly more involved, the principles are much the same as for the one-electron integrals - we will define a procedure, then loop over the *centres*.\n",
    "\n",
    "The part of the HF equations we are working towards here is:\n",
    "\\begin{equation*}\n",
    "V_{\\mathrm{HF}} = \\frac{1}{2}\\sum^n_{i=1}\\sum^n_{j=1}(J_{ij}-K_{ij})\n",
    "\\end{equation*}\n",
    "which we can later add to the core Hamiltonian."
   ]
  },
  {
   "cell_type": "code",
   "execution_count": 12,
   "metadata": {},
   "outputs": [],
   "source": [
    "#Start by initalising the integrals (electronic potential energy) to zero\n",
    "V1111, V2111, V2121, V2211, V2221, V2222 = 0.0, 0.0, 0.0, 0.0, 0.0, 0.0\n",
    "\n",
    "def twoE(A, B, C, D, RAB2, RCD2, RPQ2):\n",
    "    \"\"\"calculates the two electron integrals for un-normalised primitives, with exponents A=alpha, B=beta, \n",
    "    C=gamma, D=delta ; RAB2 square separation between centres A, B; RCD2 square separation between C and D;\n",
    "    RPQ2 square separation between P, Q\"\"\"\n",
    "    p1 = 2.0*(math.pi**2.5)/((A+B)*(C+D)*math.sqrt(A+B+C+D))\n",
    "    p2=f0((A+B)*(C+D)*RPQ2/(A+B+C+D))\n",
    "    p3 = math.exp((-A*B*RAB2/(A+B))-(C*D*RCD2/(C+D)))\n",
    "    return (p1*p2*p3)\n",
    "\n",
    "for i in range(N):\n",
    "    for j in range(N):\n",
    "        for k in range(N):\n",
    "            for l in range(N):\n",
    "                #Define some distances\n",
    "                RAP = A2[i]*R/(A2[i]+A1[j])\n",
    "                RBP = R - RAP\n",
    "                RAQ = A2[k]*R/(A2[k]+A1[l])\n",
    "                RBQ = R-RAQ\n",
    "                RPQ = RAP - RAQ\n",
    "                #Calculate integrals\n",
    "                V1111 = V1111 + twoE(A1[i], A1[j], A1[k], A1[l], 0.0, 0.0, 0.0)*D1[i]*D1[j]*D1[k]*D1[l]\n",
    "                V2111 = V2111 + twoE(A2[i], A1[j], A1[k], A1[l], R**2, 0.0, RAP**2)*D2[i]*D1[j]*D1[k]*D1[l]\n",
    "                V2121 = V2121 + twoE(A2[i], A1[j], A2[k], A1[l], R**2, R**2, RPQ**2)*D2[i]*D1[j]*D2[k]*D1[l]\n",
    "                V2211 = V2211 + twoE(A2[i], A2[j], A1[k], A1[l], 0.0, 0.0, R**2)*D2[i]*D2[j]*D1[k]*D1[l]\n",
    "                V2221 = V2221 + twoE(A2[i], A2[j], A2[k], A1[l], 0.0, R**2, RBQ**2)*D2[i]*D2[j]*D2[k]*D1[l]\n",
    "                V2222 = V2222 + twoE(A2[i], A2[j], A2[k], A2[l], 0.0, 0.0, 0.0)*D2[i]*D2[j]*D2[k]*D2[l]"
   ]
  },
  {
   "cell_type": "markdown",
   "metadata": {},
   "source": [
    "Print out what we just calculated, in table form."
   ]
  },
  {
   "cell_type": "code",
   "execution_count": 13,
   "metadata": {},
   "outputs": [
    {
     "name": "stdout",
     "output_type": "stream",
     "text": [
      "V1111 \t\t V2111 \t\t V2121\n",
      "\n",
      "1.307152 \t 0.437279 \t 0.177267\n",
      "\n",
      "V2211 \t\t V2221 \t\t V2222\n",
      "\n",
      "0.605703 \t 0.311795 \t 0.774608\n",
      "\n"
     ]
    }
   ],
   "source": [
    "print(\"V1111 \\t\\t V2111 \\t\\t V2121\\n\")\n",
    "print(\"%f \\t %f \\t %f\\n\" % (V1111, V2111, V2121))\n",
    "print(\"V2211 \\t\\t V2221 \\t\\t V2222\\n\")\n",
    "print(\"%f \\t %f \\t %f\\n\" % (V2211, V2221, V2222))"
   ]
  },
  {
   "cell_type": "markdown",
   "metadata": {},
   "source": [
    "Again, we will assemble this into a matrix (for later use) and we can print out the matrix"
   ]
  },
  {
   "cell_type": "code",
   "execution_count": 14,
   "metadata": {},
   "outputs": [
    {
     "name": "stdout",
     "output_type": "stream",
     "text": [
      "( 1 1 1 1 ) \t 1.307152\n",
      "( 1 1 1 2 ) \t 0.437279\n",
      "( 1 1 2 1 ) \t 0.437279\n",
      "( 1 1 2 2 ) \t 0.605703\n",
      "( 1 2 1 1 ) \t 0.437279\n",
      "( 1 2 1 2 ) \t 0.177267\n",
      "( 1 2 2 1 ) \t 0.177267\n",
      "( 1 2 2 2 ) \t 0.311795\n",
      "( 2 1 1 1 ) \t 0.437279\n",
      "( 2 1 1 2 ) \t 0.177267\n",
      "( 2 1 2 1 ) \t 0.177267\n",
      "( 2 1 2 2 ) \t 0.311795\n",
      "( 2 2 1 1 ) \t 0.605703\n",
      "( 2 2 1 2 ) \t 0.311795\n",
      "( 2 2 2 1 ) \t 0.311795\n",
      "( 2 2 2 2 ) \t 0.774608\n"
     ]
    }
   ],
   "source": [
    "#form the 2x2x2x2 'matrix' of 2e integrals, but first take the 2x2 bits 'inside'\n",
    "t11 = [[V1111, V2111], [V2111, V2211]] #twomatrix(x, y, 1, 1)\n",
    "t12 = [[V2111, V2121], [V2121, V2221]] #twomatrix(x, y, 1, 2)\n",
    "t21 = t12 #twomatrix(x, y, 2, 1)\n",
    "t22 = [[V2211, V2221], [V2221, V2222]] #twomatrix(x, y, 2, 2)\n",
    "twomatrix = array([[t11, t12], [t21, t22]])\n",
    "\n",
    "#print 2e matrix\n",
    "for i in range(2):\n",
    "    for j in range(2):\n",
    "        for k in range(2):\n",
    "            for l in range(2):\n",
    "                print(\"( %i %i %i %i ) \\t %f\" % (i+1, j+1, k+1, l+1, twomatrix[i][j][k][l]))"
   ]
  },
  {
   "cell_type": "markdown",
   "metadata": {},
   "source": [
    "## SCF iterations\n",
    "Now that we have the one- and two-electron integrals, we can solve our HF equations in a self-consistent manner (see the flowchart from the lecture notes).\n",
    "\n",
    "Let's start by defining our convergence criteria and our maximum number of iterations"
   ]
  },
  {
   "cell_type": "code",
   "execution_count": 15,
   "metadata": {},
   "outputs": [],
   "source": [
    "CONVERGE = 1e-4 #Convergence criterion for density matrix\n",
    "MAXIT = 25 #Maximum number of SCF iterations"
   ]
  },
  {
   "cell_type": "markdown",
   "metadata": {},
   "source": [
    "We also need to initalise some matrices (including the density matrix) and while we are at, let's start a counter for the number of iterations and a variable containing the current energy. As we will use changes in the density matrix as our check for the SCF iterations converging, it's worth remembering its form:\n",
    "\\begin{equation*}\n",
    "\\rho_{qp} = \\sum_{i}c_{qi}c_{pi}^*\n",
    "\\end{equation*}\n",
    "where $c_{qi}$ are variational parameters."
   ]
  },
  {
   "cell_type": "code",
   "execution_count": 16,
   "metadata": {},
   "outputs": [],
   "source": [
    "pmatrix = array([[0.0, 0.0], [0.0, 0.0]]) #initialise density matrix\n",
    "oldpmatrix = array([[0.0,0.0], [0.0,0.0]]) #to store old density matrix before forming new one\n",
    "ematrix = [] #matrix of eigenvalues\n",
    "gmatrix = [] #two-electron part of the Fock matrix\n",
    "fmatrix = [] #Fock matrix\n",
    "cmatrix = [] #matrix of variational parameters\n",
    "\n",
    "curriter = 0 #Current iteration index\n",
    "energy = 0.0 #initialise energy variable\n",
    "energs = [] #list of energies throughout the calculation\n",
    "deltas = [] #keep track of how the change in the density matrix progresses"
   ]
  },
  {
   "cell_type": "markdown",
   "metadata": {},
   "source": [
    "### The Fock matrix\n",
    "The elements of the Fock matrix are given by:\n",
    "\\begin{equation*}\n",
    "F_{pq} = h_{pq} + \\sum_{rs}\\langle\\chi_p\\chi_r ||\\chi_q\\chi_s \\rangle\n",
    "\\end{equation*}\n",
    "where the first term is the core Hamiltonian (which we have already calculated and doesn't change during the SCF).\n",
    "This means we need to calculate the second term (two-electron part), we will call this the gmatrix and define a procedure to calculate it."
   ]
  },
  {
   "cell_type": "code",
   "execution_count": 17,
   "metadata": {},
   "outputs": [],
   "source": [
    "def formg(pmatrix, twomatrix):\n",
    "    \"\"\"calculates the G matrix from the density matrix and 2e integrals\"\"\"\n",
    "    gmatrix = array([[0.0, 0.0], [0.0, 0.0]]) #initialise return matrix\n",
    "    for i in range(2):\n",
    "        for j in range(2):\n",
    "            for k in range(2):\n",
    "                for l in range(2):\n",
    "                    gmatrix[i][j] = gmatrix[i][j] + pmatrix[k][l]*(twomatrix[i][j][k][l]-0.5*twomatrix[i][l][k][j])\n",
    "    return gmatrix"
   ]
  },
  {
   "cell_type": "markdown",
   "metadata": {},
   "source": [
    "We also need a transformation matrix (xmatrix) and its transpose, which is used in the secular equations"
   ]
  },
  {
   "cell_type": "code",
   "execution_count": 18,
   "metadata": {},
   "outputs": [],
   "source": [
    "#use canonical orthogonalisation to find transformation matrix, X\n",
    "x11 = 1/math.sqrt(2*(1+S12))\n",
    "x12 = 1/math.sqrt(2*(1-S12))\n",
    "x21 = x11\n",
    "x22 = -x12\n",
    "xmatrix = array([[x11, x12], [x21, x22]]) #transformation matrix\n",
    "xtmatrix = array([[x11, x21], [x12, x22]]) #transpose of transformation matrix"
   ]
  },
  {
   "cell_type": "markdown",
   "metadata": {},
   "source": [
    "### Matrix multiplication and diagonalisation\n",
    "To be able to carry out matrix multiplication and to diagonalise a matrix (used to find the eigenvalues of a matrix), we need to define procedures for both of those. In practice, it would be better to use existing procedures (such as those provided in the *numpy* Python module) as they are likely to be faster and extensively checked for programming bugs. Here we have written our own versions, so you can see how it's done."
   ]
  },
  {
   "cell_type": "code",
   "execution_count": 19,
   "metadata": {},
   "outputs": [],
   "source": [
    "def mult(amatrix, bmatrix, n, m):\n",
    "    \"\"\"multiplies two n x n matrices (a and b)\"\"\"\n",
    "    cmatrix = array([[0.0]*n]*n) #initialise n x n matrix\n",
    "    for i in range(m):\n",
    "        for j in range(m):\n",
    "            for k in range(m):\n",
    "                cmatrix[i][j] = cmatrix[i][j] + amatrix[i][k]*bmatrix[k][j]\n",
    "    return cmatrix\n",
    "\n",
    "def diag(amatrix):\n",
    "    \"\"\"diagonalises amatrix and returns matrices of the eigenvectors and eigenvalues\"\"\"\n",
    "    vecmatrix = array([[0.0, 0.0], [0.0, 0.0]]) #Eigenvectors\n",
    "    valmatrix = array([[0.0, 0.0], [0.0, 0.0]]) #Eigenvalues\n",
    "    theta = 0.0 #Angle describing the solution\n",
    "    #Check whether homo or heteronuclear diatomic\n",
    "    if (math.fabs(amatrix[0][0] - amatrix[1][1])) < (1e-20):\n",
    "        #Homonuclear diatomic\n",
    "        theta = math.pi/4\n",
    "    else:\n",
    "        #Heteronuclear diatomic\n",
    "        theta = 0.5*math.atan(2*amatrix[0][1]/(amatrix[0][0] - amatrix[1][1]))\n",
    "    #Enumerate the eigenvectors from theta\n",
    "    vecmatrix[0][0] = math.cos(theta)\n",
    "    vecmatrix[0][1] = math.sin(theta)\n",
    "    vecmatrix[1][0] = vecmatrix[0][1]\n",
    "    vecmatrix[1][1] = -1*vecmatrix[0][0]\n",
    "    #Split up calculation of eigenvalues into parts\n",
    "    p1 = amatrix[0][0]*(vecmatrix[0][0])**2\n",
    "    p2 = amatrix[1][1]*(vecmatrix[0][1])**2\n",
    "    p3 = amatrix[0][1]*math.sin(2*theta)\n",
    "    p4 = amatrix[1][1]*(vecmatrix[0][0])**2\n",
    "    p5 = amatrix[0][0]*(vecmatrix[0][1])**2\n",
    "    #Enumerate eigenvalues\n",
    "    valmatrix[0][0] = p1 + p2 + p3\n",
    "    valmatrix[1][1] = p4 + p5 - p3\n",
    "    valmatrix[0][1] = 0 #Redundant, but for clarity\n",
    "    valmatrix[1][0] = 0\n",
    "    #Order the eigenvalues and vectors if necessary\n",
    "    if valmatrix[1][1] < valmatrix[0][0]:\n",
    "        #Order eigenvalues smallest first\n",
    "        temp = valmatrix[1][1] #Save the smaller value\n",
    "        valmatrix[1][1] = valmatrix[0][0] #Put higher value in second position\n",
    "        valmatrix[0][0] = temp #and lower value in first position\n",
    "        #Now swap the vectors\n",
    "        temp = vecmatrix[0][1]\n",
    "        vecmatrix[0][1] = vecmatrix[0][0]\n",
    "        vecmatrix[0][0] = temp\n",
    "        temp = vecmatrix[1][1]\n",
    "        vecmatrix[1][1] = vecmatrix[1][0]\n",
    "        vecmatrix[1][0] = temp\n",
    "    return [vecmatrix, valmatrix] #return list of eigenvectors and values"
   ]
  },
  {
   "cell_type": "markdown",
   "metadata": {},
   "source": [
    "### The actual calculation\n",
    "We now have all the pieces required to run an SCF calculation. A basic overview of the process is:\n",
    "1. Generate the Fock matrix from the core Hamiltonian and two-electron matrix\n",
    "2. Calculate the current energy: $\\tilde{E}(\\mathbf{c}) = \\sum_{i=1}^n h_i + \\frac{1}{2}\\sum_{i=1}^n\\sum_{j=1}^n (J_{ij}-K_{ij})$\n",
    "3. Solve the secular / Roothaan equations ($|\\mathbf{F}-\\epsilon\\mathbf{S}|=0$ and $\\mathbf{Fc}=\\mathbf{Sc\\epsilon}$) to obtain orbital energies and a new variational parameters\n",
    "4. Form a new density matrix from the variational parameters\n",
    "5. Calculate the *magnitude* of the denisty matrix and compare with the previous value. If the change in magnitude (called *delta* in the code below) is less than the convergence threshold then the SCF calculation is complete. Otherwise, go back to point 1."
   ]
  },
  {
   "cell_type": "code",
   "execution_count": 20,
   "metadata": {},
   "outputs": [
    {
     "name": "stdout",
     "output_type": "stream",
     "text": [
      "START OF ITERATION NUMBER = 1\n",
      "\n",
      "The G matrix\n",
      "\t 1 \t\t 2 \t\n",
      "1\t 0.00000\t 0.00000\n",
      "2\t 0.00000\t 0.00000\n",
      "\n",
      "\n",
      "The F matrix\n",
      "\t 1 \t\t 2 \t\n",
      "1\t -2.65274\t -1.34721\n",
      "2\t -1.34721\t -1.73183\n",
      "\n",
      "Electronic energy = 0.000000 Hartree\n",
      "\n",
      "The F prime matrix\n",
      "\t 1 \t\t 2 \t\n",
      "1\t -2.43973\t -0.51584\n",
      "2\t -0.51584\t -1.53867\n",
      "\n",
      "\n",
      "The Eigenvalues matrix\n",
      "\t 1 \t\t 2 \t\n",
      "1\t -2.67409\t 0.00000\n",
      "2\t 0.00000\t -1.30431\n",
      "\n",
      "\n",
      "The Eigenvectors matrix\n",
      "\t 1 \t\t 2 \t\n",
      "1\t 0.92915\t -0.62586\n",
      "2\t 0.13983\t 1.11151\n",
      "\n",
      "\n",
      "The P matrix\n",
      "\t 1 \t\t 2 \t\n",
      "1\t 1.72663\t 0.25985\n",
      "2\t 0.25985\t 0.03911\n",
      "\n",
      "Delta(Convergence of Density Matrix) = 0.882867\n",
      "START OF ITERATION NUMBER = 2\n",
      "\n",
      "The G matrix\n",
      "\t 1 \t\t 2 \t\n",
      "1\t 1.26233\t 0.37400\n",
      "2\t 0.37400\t 0.98895\n",
      "\n",
      "\n",
      "The F matrix\n",
      "\t 1 \t\t 2 \t\n",
      "1\t -1.39041\t -0.97320\n",
      "2\t -0.97320\t -0.74288\n",
      "\n",
      "Electronic energy = -4.141863 Hartree\n",
      "\n",
      "The F prime matrix\n",
      "\t 1 \t\t 2 \t\n",
      "1\t -1.40604\t -0.36271\n",
      "2\t -0.36271\t -0.17014\n",
      "\n",
      "\n",
      "The Eigenvalues matrix\n",
      "\t 1 \t\t 2 \t\n",
      "1\t -1.50463\t 0.00000\n",
      "2\t 0.00000\t -0.07155\n",
      "\n",
      "\n",
      "The Eigenvectors matrix\n",
      "\t 1 \t\t 2 \t\n",
      "1\t 0.81676\t -0.76675\n",
      "2\t 0.31626\t 1.07470\n",
      "\n",
      "\n",
      "The P matrix\n",
      "\t 1 \t\t 2 \t\n",
      "1\t 1.33420\t 0.51662\n",
      "2\t 0.51662\t 0.20004\n",
      "\n",
      "Delta(Convergence of Density Matrix) = 0.279176\n",
      "START OF ITERATION NUMBER = 3\n",
      "\n",
      "The G matrix\n",
      "\t 1 \t\t 2 \t\n",
      "1\t 1.20135\t 0.30381\n",
      "2\t 0.30381\t 0.92843\n",
      "\n",
      "\n",
      "The F matrix\n",
      "\t 1 \t\t 2 \t\n",
      "1\t -1.45140\t -1.04340\n",
      "2\t -1.04340\t -0.80340\n",
      "\n",
      "Electronic energy = -4.226492 Hartree\n",
      "\n",
      "The F prime matrix\n",
      "\t 1 \t\t 2 \t\n",
      "1\t -1.49631\t -0.36297\n",
      "2\t -0.36297\t -0.15294\n",
      "\n",
      "\n",
      "The Eigenvalues matrix\n",
      "\t 1 \t\t 2 \t\n",
      "1\t -1.58810\t 0.00000\n",
      "2\t 0.00000\t -0.06114\n",
      "\n",
      "\n",
      "The Eigenvectors matrix\n",
      "\t 1 \t\t 2 \t\n",
      "1\t 0.80309\t -0.78106\n",
      "2\t 0.33520\t 1.06895\n",
      "\n",
      "\n",
      "The P matrix\n",
      "\t 1 \t\t 2 \t\n",
      "1\t 1.28990\t 0.53839\n",
      "2\t 0.53839\t 0.22472\n",
      "\n",
      "Delta(Convergence of Density Matrix) = 0.029662\n",
      "START OF ITERATION NUMBER = 4\n",
      "\n",
      "The G matrix\n",
      "\t 1 \t\t 2 \t\n",
      "1\t 1.19467\t 0.29716\n",
      "2\t 0.29716\t 0.92187\n",
      "\n",
      "\n",
      "The F matrix\n",
      "\t 1 \t\t 2 \t\n",
      "1\t -1.45807\t -1.05004\n",
      "2\t -1.05004\t -0.80996\n",
      "\n",
      "Electronic energy = -4.227523 Hartree\n",
      "\n",
      "The F prime matrix\n",
      "\t 1 \t\t 2 \t\n",
      "1\t -1.50545\t -0.36303\n",
      "2\t -0.36303\t -0.15289\n",
      "\n",
      "\n",
      "The Eigenvalues matrix\n",
      "\t 1 \t\t 2 \t\n",
      "1\t -1.59673\t 0.00000\n",
      "2\t 0.00000\t -0.06161\n",
      "\n",
      "\n",
      "The Eigenvectors matrix\n",
      "\t 1 \t\t 2 \t\n",
      "1\t 0.80201\t -0.78218\n",
      "2\t 0.33668\t 1.06848\n",
      "\n",
      "\n",
      "The P matrix\n",
      "\t 1 \t\t 2 \t\n",
      "1\t 1.28642\t 0.54004\n",
      "2\t 0.54004\t 0.22671\n",
      "\n",
      "Delta(Convergence of Density Matrix) = 0.002318\n",
      "START OF ITERATION NUMBER = 5\n",
      "\n",
      "The G matrix\n",
      "\t 1 \t\t 2 \t\n",
      "1\t 1.19415\t 0.29665\n",
      "2\t 0.29665\t 0.92136\n",
      "\n",
      "\n",
      "The F matrix\n",
      "\t 1 \t\t 2 \t\n",
      "1\t -1.45860\t -1.05055\n",
      "2\t -1.05055\t -0.81047\n",
      "\n",
      "Electronic energy = -4.227529 Hartree\n",
      "\n",
      "The F prime matrix\n",
      "\t 1 \t\t 2 \t\n",
      "1\t -1.50616\t -0.36304\n",
      "2\t -0.36304\t -0.15291\n",
      "\n",
      "\n",
      "The Eigenvalues matrix\n",
      "\t 1 \t\t 2 \t\n",
      "1\t -1.59740\t 0.00000\n",
      "2\t 0.00000\t -0.06166\n",
      "\n",
      "\n",
      "The Eigenvectors matrix\n",
      "\t 1 \t\t 2 \t\n",
      "1\t 0.80192\t -0.78226\n",
      "2\t 0.33679\t 1.06845\n",
      "\n",
      "\n",
      "The P matrix\n",
      "\t 1 \t\t 2 \t\n",
      "1\t 1.28616\t 0.54016\n",
      "2\t 0.54016\t 0.22686\n",
      "\n",
      "Delta(Convergence of Density Matrix) = 0.000174\n",
      "START OF ITERATION NUMBER = 6\n",
      "\n",
      "The G matrix\n",
      "\t 1 \t\t 2 \t\n",
      "1\t 1.19411\t 0.29661\n",
      "2\t 0.29661\t 0.92132\n",
      "\n",
      "\n",
      "The F matrix\n",
      "\t 1 \t\t 2 \t\n",
      "1\t -1.45864\t -1.05059\n",
      "2\t -1.05059\t -0.81051\n",
      "\n",
      "Electronic energy = -4.227529 Hartree\n",
      "\n",
      "The F prime matrix\n",
      "\t 1 \t\t 2 \t\n",
      "1\t -1.50621\t -0.36304\n",
      "2\t -0.36304\t -0.15291\n",
      "\n",
      "\n",
      "The Eigenvalues matrix\n",
      "\t 1 \t\t 2 \t\n",
      "1\t -1.59745\t 0.00000\n",
      "2\t 0.00000\t -0.06167\n",
      "\n",
      "\n",
      "The Eigenvectors matrix\n",
      "\t 1 \t\t 2 \t\n",
      "1\t 0.80192\t -0.78227\n",
      "2\t 0.33680\t 1.06845\n",
      "\n",
      "\n",
      "The P matrix\n",
      "\t 1 \t\t 2 \t\n",
      "1\t 1.28614\t 0.54017\n",
      "2\t 0.54017\t 0.22687\n",
      "\n",
      "Delta(Convergence of Density Matrix) = 0.000013\n",
      "\n",
      "SCF Converged after 6 iterations\n"
     ]
    }
   ],
   "source": [
    "while True:\n",
    "    curriter = curriter + 1\n",
    "    print(\"START OF ITERATION NUMBER = %i\" % (curriter))\n",
    "    gmatrix = formg(pmatrix, twomatrix) #form 2e part of Fock matrix from current density matrix\n",
    "    matout(gmatrix, 2, 2, \"G\") #Use earlier procedure to print the G matrix\n",
    "    fmatrix = hmatrix + gmatrix #generate Fock matrix from sum of core Hamiltonian and 2e matrix\n",
    "    #Calculate electronic energy\n",
    "    energy = 0.0 #reset energy\n",
    "    for p in range(2):\n",
    "        for q in range(2):\n",
    "            energy = energy + 0.5*pmatrix[p][q]*(hmatrix[p][q] + fmatrix[p][q])\n",
    "    matout(fmatrix, 2, 2, \"F\") #Print current Fock matrix\n",
    "    print(\"Electronic energy = %f Hartree\" % (energy))\n",
    "    energs.append(energy) #Add the current energy to our list\n",
    "    #Transform Fock matrix, reusing gmatrix for temporary storage\n",
    "    gmatrix = mult(fmatrix, xmatrix, 2, 2)\n",
    "    fpmatrix = mult(xtmatrix, gmatrix, 2, 2) #Fock-prime matrix - transformed Fock matrix\n",
    "    #Diagonalise the transformed Fock matrix\n",
    "    eigenmatrix = diag(fpmatrix) #Get eigenvectors and eigenvalues\n",
    "    cpmatrix = eigenmatrix[0] #Eigenvectors\n",
    "    ematrix = eigenmatrix[1] #Eigenvalues\n",
    "    cmatrix = mult(xmatrix, cpmatrix, 2, 2) #Transform eigenvectors to get matrix C\n",
    "    #Form new density matrix and save current density matrix\n",
    "    for p in range(2):\n",
    "        for q in range(2):\n",
    "            oldpmatrix[p][q] = pmatrix[p][q]\n",
    "            pmatrix[p][q] = 2*cmatrix[p][0]*cmatrix[q][0]\n",
    "    matout(fpmatrix, 2, 2, \"F prime\") #Print transformed Fock matrix\n",
    "    matout(ematrix, 2, 2, \"Eigenvalues\")\n",
    "    matout(cmatrix, 2, 2, \"Eigenvectors\")\n",
    "    matout(pmatrix, 2, 2, \"P\")\n",
    "    #Calculate delta, the change in 'magnitude' of the density matrix\n",
    "    delta = 0.0\n",
    "    for p in range(2):\n",
    "        for q in range(2):\n",
    "            delta = delta + (pmatrix[p][q] - oldpmatrix[p][q])**2\n",
    "    delta = math.sqrt(delta/4)\n",
    "    deltas.append(delta) #Add the latest delta to the list\n",
    "    print(\"Delta(Convergence of Density Matrix) = %f\" % (delta))\n",
    "    #Check for convergence against criterion\n",
    "    if delta < CONVERGE:\n",
    "        print(\"\\nSCF Converged after %i iterations\" % (curriter))\n",
    "        break\n",
    "    elif curriter is MAXIT:\n",
    "        print(\"\\nNo convergence after maximum number of iterations\")\n",
    "        break\n"
   ]
  },
  {
   "cell_type": "markdown",
   "metadata": {},
   "source": [
    "Lets look at the final energy (all in Hartree). To calculate the total energy, we add the electronic contribution from our SCF calculation to the (constant) nuclear-nuclear repulsion term."
   ]
  },
  {
   "cell_type": "code",
   "execution_count": 21,
   "metadata": {},
   "outputs": [
    {
     "name": "stdout",
     "output_type": "stream",
     "text": [
      "Electronic Energy = -4.227529 \n",
      "Total Energy = -2.860662 \n",
      "\n"
     ]
    }
   ],
   "source": [
    "etotal = energy + ZA*ZB/R\n",
    "print(\"Electronic Energy = %f \\nTotal Energy = %f \\n\" % (energy, etotal))"
   ]
  },
  {
   "cell_type": "markdown",
   "metadata": {},
   "source": [
    "## Plotting the changes in energy\n",
    "As we stored the energy (and delta values) at each step in our calculation, we can also plot this data to see how it changed over the iterations. We will use the Python matplotlib library to quickly and easily do this.\n",
    "\n",
    "Our starting \"guess\" for the density matrix was to set all elements to zero, meaning the first electronic energy is zero - hence we will skip it in the plot. Most HF programs used in research have a more sophisticated guess, which will give a more logical first energy (and usually lead to convergence in fewer iterations)."
   ]
  },
  {
   "cell_type": "code",
   "execution_count": 24,
   "metadata": {},
   "outputs": [
    {
     "data": {
      "image/png": "[encoded data removed]",
      "text/plain": [
       "<matplotlib.figure.Figure at 0x1181bd710>"
      ]
     },
     "metadata": {
      "needs_background": "light"
     },
     "output_type": "display_data"
    }
   ],
   "source": [
    "import matplotlib.pyplot as plt\n",
    "fig, axes = plt.subplots()\n",
    "axes.plot(range(2,curriter+1),energs[1:], 'bo-')\n",
    "axes.set_xlabel(\"Iteration number\")\n",
    "axes.set_ylabel(\"Electronic energy (Hartree)\")\n",
    "plt.show()"
   ]
  },
  {
   "cell_type": "markdown",
   "metadata": {},
   "source": [
    "We can see that there's a large jump in energy between the second and third iteration, but after that the change in energy is relatively small. We can look at this in a bit more detail though, try changing the line\n",
    "> `plt.plot(range(2,curriter+1),energs[1:], 'bo-')`\n",
    "\n",
    "to\n",
    "\n",
    "> `plt.plot(range(3,curriter+1),energs[2:], 'bo-')`\n",
    "\n",
    "Then press the run arrow button in the toolbar at the top. This will plot iteration 3 onwards.\n",
    "\n",
    "While the total energy is probably the output of the calculation we are most interested in, it isn't directly used to test if the calculation has converged."
   ]
  },
  {
   "cell_type": "markdown",
   "metadata": {},
   "source": [
    "### Plotting delta\n",
    "The variable delta holds the change in the magnitude of the density matrix between iterations. As this is the quantity we are using to check for convergence, let's go ahead and plot that too."
   ]
  },
  {
   "cell_type": "code",
   "execution_count": 23,
   "metadata": {},
   "outputs": [
    {
     "data": {
      "image/png": "[encoded data removed]",
      "text/plain": [
       "<matplotlib.figure.Figure at 0x118115fd0>"
      ]
     },
     "metadata": {
      "needs_background": "light"
     },
     "output_type": "display_data"
    }
   ],
   "source": [
    "fig, axes = plt.subplots()\n",
    "axes.plot(range(1,curriter+1),deltas, 'ro-')\n",
    "axes.set_xlabel(\"Iteration number\")\n",
    "axes.set_ylabel(\"Delta (convergence of density matrix)\")\n",
    "plt.show()"
   ]
  },
  {
   "cell_type": "markdown",
   "metadata": {},
   "source": [
    "As we might have expected, there's a large change in the first iteration (due to the terrible initial density guess), but it converges pretty rapidly after that. If we were observing large oscillations in delta or the energy this would be a sign that we were experiencing convergence problems, but everything looks good here."
   ]
  },
  {
   "cell_type": "markdown",
   "metadata": {},
   "source": [
    "## Time to experiment\n",
    "As this is an interactive notebook, you can play around with some of the parameters, convergence criteria etc. to erxamine the impact on the energy. Make a change, then press the double arrow *re-run* button in the toolbar (looks like an old school fast forward button). This will restart the notebook with your new parameters.\n",
    "\n",
    "You could examine how the energy changes when you try some of the following (probably best to try these one at a time to start with):\n",
    "1. Adjust the bond length R\n",
    "2. Try different hydrogenic ions by adjusting the atomic numbers ZA and ZB. Note these will always be one electron ions, so carbon (ZA=6) would actually be the C$^{5+}$ ion.\n",
    "3. Use the STO-2G or STO-1G basis set by changing the value of N in the basis set section.\n",
    "4. Change the convergence criteria CONVERGE. At what point does the calculation no longer converge?"
   ]
  },
  {
   "cell_type": "code",
   "execution_count": null,
   "metadata": {},
   "outputs": [],
   "source": []
  }
 ],
 "metadata": {
  "kernelspec": {
   "display_name": "Python 3",
   "language": "python",
   "name": "python3"
  },
  "language_info": {
   "codemirror_mode": {
    "name": "ipython",
    "version": 3
   },
   "file_extension": ".py",
   "mimetype": "text/x-python",
   "name": "python",
   "nbconvert_exporter": "python",
   "pygments_lexer": "ipython3",
   "version": "3.6.3"
  }
 },
 "nbformat": 4,
 "nbformat_minor": 2
}
